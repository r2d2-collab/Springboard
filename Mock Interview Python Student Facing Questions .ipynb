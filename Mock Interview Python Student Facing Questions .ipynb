{
 "cells": [
  {
   "cell_type": "markdown",
   "metadata": {},
   "source": [
    "<h3> Mock Interview Python Screening test </h3>\n"
   ]
  },
  {
   "cell_type": "code",
   "execution_count": 107,
   "metadata": {},
   "outputs": [],
   "source": [
    "import pandas as pd\n",
    "import matplotlib as mpl\n",
    "import matplotlib.pyplot as plt\n",
    "dataframe = pd.read_csv(\"adult_census_data.csv\")"
   ]
  },
  {
   "cell_type": "code",
   "execution_count": 108,
   "metadata": {},
   "outputs": [
    {
     "data": {
      "text/html": [
       "<div>\n",
       "<style scoped>\n",
       "    .dataframe tbody tr th:only-of-type {\n",
       "        vertical-align: middle;\n",
       "    }\n",
       "\n",
       "    .dataframe tbody tr th {\n",
       "        vertical-align: top;\n",
       "    }\n",
       "\n",
       "    .dataframe thead th {\n",
       "        text-align: right;\n",
       "    }\n",
       "</style>\n",
       "<table border=\"1\" class=\"dataframe\">\n",
       "  <thead>\n",
       "    <tr style=\"text-align: right;\">\n",
       "      <th></th>\n",
       "      <th>Age</th>\n",
       "      <th>Work</th>\n",
       "      <th>Fasjakjs</th>\n",
       "      <th>Education</th>\n",
       "      <th>EducationYears</th>\n",
       "      <th>MaritalStatus</th>\n",
       "      <th>Occupation</th>\n",
       "      <th>Relationship</th>\n",
       "      <th>Race</th>\n",
       "      <th>Sex</th>\n",
       "      <th>CapitalGain</th>\n",
       "      <th>CapitalLoss</th>\n",
       "      <th>HoursPerWeek</th>\n",
       "      <th>NativeCountry</th>\n",
       "      <th>Income</th>\n",
       "    </tr>\n",
       "  </thead>\n",
       "  <tbody>\n",
       "    <tr>\n",
       "      <td>0</td>\n",
       "      <td>39</td>\n",
       "      <td>State-gov</td>\n",
       "      <td>77516</td>\n",
       "      <td>Bachelors</td>\n",
       "      <td>13</td>\n",
       "      <td>Never-married</td>\n",
       "      <td>Adm-clerical</td>\n",
       "      <td>Not-in-family</td>\n",
       "      <td>White</td>\n",
       "      <td>Male</td>\n",
       "      <td>2174</td>\n",
       "      <td>0</td>\n",
       "      <td>40</td>\n",
       "      <td>United-States</td>\n",
       "      <td>&lt;=50K</td>\n",
       "    </tr>\n",
       "    <tr>\n",
       "      <td>1</td>\n",
       "      <td>50</td>\n",
       "      <td>Self-emp-not-inc</td>\n",
       "      <td>83311</td>\n",
       "      <td>Bachelors</td>\n",
       "      <td>13</td>\n",
       "      <td>Married-civ-spouse</td>\n",
       "      <td>Exec-managerial</td>\n",
       "      <td>Husband</td>\n",
       "      <td>White</td>\n",
       "      <td>Male</td>\n",
       "      <td>0</td>\n",
       "      <td>0</td>\n",
       "      <td>13</td>\n",
       "      <td>United-States</td>\n",
       "      <td>&lt;=50K</td>\n",
       "    </tr>\n",
       "    <tr>\n",
       "      <td>2</td>\n",
       "      <td>38</td>\n",
       "      <td>Private</td>\n",
       "      <td>215646</td>\n",
       "      <td>HS-grad</td>\n",
       "      <td>9</td>\n",
       "      <td>Divorced</td>\n",
       "      <td>Handlers-cleaners</td>\n",
       "      <td>Not-in-family</td>\n",
       "      <td>White</td>\n",
       "      <td>Male</td>\n",
       "      <td>0</td>\n",
       "      <td>0</td>\n",
       "      <td>40</td>\n",
       "      <td>United-States</td>\n",
       "      <td>&lt;=50K</td>\n",
       "    </tr>\n",
       "    <tr>\n",
       "      <td>3</td>\n",
       "      <td>53</td>\n",
       "      <td>Private</td>\n",
       "      <td>234721</td>\n",
       "      <td>11th</td>\n",
       "      <td>7</td>\n",
       "      <td>Married-civ-spouse</td>\n",
       "      <td>Handlers-cleaners</td>\n",
       "      <td>Husband</td>\n",
       "      <td>Black</td>\n",
       "      <td>Male</td>\n",
       "      <td>0</td>\n",
       "      <td>0</td>\n",
       "      <td>40</td>\n",
       "      <td>United-States</td>\n",
       "      <td>&lt;=50K</td>\n",
       "    </tr>\n",
       "    <tr>\n",
       "      <td>4</td>\n",
       "      <td>28</td>\n",
       "      <td>Private</td>\n",
       "      <td>338409</td>\n",
       "      <td>Bachelors</td>\n",
       "      <td>13</td>\n",
       "      <td>Married-civ-spouse</td>\n",
       "      <td>Prof-specialty</td>\n",
       "      <td>Wife</td>\n",
       "      <td>Black</td>\n",
       "      <td>Female</td>\n",
       "      <td>0</td>\n",
       "      <td>0</td>\n",
       "      <td>40</td>\n",
       "      <td>Cuba</td>\n",
       "      <td>&lt;=50K</td>\n",
       "    </tr>\n",
       "  </tbody>\n",
       "</table>\n",
       "</div>"
      ],
      "text/plain": [
       "   Age              Work  Fasjakjs  Education  EducationYears  \\\n",
       "0   39         State-gov     77516  Bachelors              13   \n",
       "1   50  Self-emp-not-inc     83311  Bachelors              13   \n",
       "2   38           Private    215646    HS-grad               9   \n",
       "3   53           Private    234721       11th               7   \n",
       "4   28           Private    338409  Bachelors              13   \n",
       "\n",
       "        MaritalStatus         Occupation   Relationship   Race     Sex  \\\n",
       "0       Never-married       Adm-clerical  Not-in-family  White    Male   \n",
       "1  Married-civ-spouse    Exec-managerial        Husband  White    Male   \n",
       "2            Divorced  Handlers-cleaners  Not-in-family  White    Male   \n",
       "3  Married-civ-spouse  Handlers-cleaners        Husband  Black    Male   \n",
       "4  Married-civ-spouse     Prof-specialty           Wife  Black  Female   \n",
       "\n",
       "   CapitalGain  CapitalLoss  HoursPerWeek  NativeCountry Income  \n",
       "0         2174            0            40  United-States  <=50K  \n",
       "1            0            0            13  United-States  <=50K  \n",
       "2            0            0            40  United-States  <=50K  \n",
       "3            0            0            40  United-States  <=50K  \n",
       "4            0            0            40           Cuba  <=50K  "
      ]
     },
     "execution_count": 108,
     "metadata": {},
     "output_type": "execute_result"
    }
   ],
   "source": [
    "dataframe.head()"
   ]
  },
  {
   "cell_type": "code",
   "execution_count": 109,
   "metadata": {},
   "outputs": [
    {
     "name": "stdout",
     "output_type": "stream",
     "text": [
      "<class 'pandas.core.frame.DataFrame'>\n",
      "RangeIndex: 32561 entries, 0 to 32560\n",
      "Data columns (total 15 columns):\n",
      "Age               32561 non-null int64\n",
      "Work              32561 non-null object\n",
      "Fasjakjs          32561 non-null int64\n",
      "Education         32561 non-null object\n",
      "EducationYears    32561 non-null int64\n",
      "MaritalStatus     32561 non-null object\n",
      "Occupation        32561 non-null object\n",
      "Relationship      32561 non-null object\n",
      "Race              32561 non-null object\n",
      "Sex               32561 non-null object\n",
      "CapitalGain       32561 non-null int64\n",
      "CapitalLoss       32561 non-null int64\n",
      "HoursPerWeek      32561 non-null int64\n",
      "NativeCountry     32561 non-null object\n",
      "Income            32561 non-null object\n",
      "dtypes: int64(6), object(9)\n",
      "memory usage: 3.7+ MB\n"
     ]
    }
   ],
   "source": [
    "dataframe.info()"
   ]
  },
  {
   "cell_type": "markdown",
   "metadata": {},
   "source": [
    "<b> Q1. After importing the adult_census_data.csv file, please filter this to include only the following criteria: </b>\n",
    "<p>\n",
    "\n",
    "<li> State-Gov</li>\n",
    "<li> Bachelors </li>\n",
    "<li> Never-Married </li>\n",
    "<li> Adm-Clerical </li> \n",
    "<li> Not-in-familiy </li>\n",
    "<li> White </li>\n",
    "<li> Male </li> \n",
    "<li> United States </li>\n",
    "<li> <=50K </li> \n",
    "\n",
    "<b> Feel free to any method to complete this tasks. However, we recommend you use either list filtering [], or .loc to complete this task.</b>"
   ]
  },
  {
   "cell_type": "markdown",
   "metadata": {},
   "source": [
    "<b> Put your code below </b>"
   ]
  },
  {
   "cell_type": "code",
   "execution_count": 110,
   "metadata": {},
   "outputs": [],
   "source": [
    "df1 = dataframe[(dataframe.Work =='State-gov') & (dataframe.Education =='Bachelors') & \n",
    "                (dataframe.MaritalStatus =='Never-married') & (dataframe.Occupation =='Adm-clerical')&\n",
    "                (dataframe.Relationship =='Not-in-family') &  (dataframe.Race =='White') &\n",
    "                (dataframe.Sex =='Male') & (dataframe.NativeCountry =='United-States') &\n",
    "                (dataframe.Income =='<=50K')\n",
    "               ]"
   ]
  },
  {
   "cell_type": "markdown",
   "metadata": {},
   "source": [
    "<b> Currently, the dataframe you are using has the following column names: </b>\n",
    "\n",
    "[' State-gov', ' Bachelors', ' Never-married',\n",
    "       ' Adm-clerical', ' Not-in-family', ' White', ' Male', ' United-States', ' <=50K']\n",
    "       \n",
    "     \n",
    "<b> Q2. Please re-name all the newly filtered columns in the pandas DataFrame to the following: </b>\n",
    "\n",
    "Employment Type, Degree Status, Marriage-Status, Job-Role, Family-Role, Ethnicity, Gender, Country, Earnings\n",
    "\n",
    "E.g. State-Gov becomes Employment Type, Bachelors becomes Degree Status, etc."
   ]
  },
  {
   "cell_type": "markdown",
   "metadata": {},
   "source": [
    "<b> Put your code below </b>"
   ]
  },
  {
   "cell_type": "code",
   "execution_count": 111,
   "metadata": {},
   "outputs": [],
   "source": [
    "df1.rename(columns={'Work':'Employment Type','Education':'Degree Status','MaritalStatus':'Marriage-Status','Occupation':'Job-Role','Relationship':'Family-Role','Race':'Ethnicity','Sex':'Gender','NativeCountry':'Country','Income':'Earnings'},inplace = True)"
   ]
  },
  {
   "cell_type": "code",
   "execution_count": 112,
   "metadata": {},
   "outputs": [],
   "source": [
    "dataframe.rename(columns={'Work':'Employment Type','Education':'Degree Status','MaritalStatus':'Marriage-Status','Occupation':'Job-Role','Relationship':'Family-Role','Race':'Ethnicity','Sex':'Gender','NativeCountry':'Country','Income':'Earnings'},inplace = True)"
   ]
  },
  {
   "cell_type": "markdown",
   "metadata": {},
   "source": [
    "<b> Q3. The Job Role Columns holds the job information for each individual in this census snapshot. Using this column, create a Bar Chart that shows the count of 'Unique' Jobs per Job Group in the \"Job-Role\" Column in ascending order, as per the provided image below </b>\n"
   ]
  },
  {
   "cell_type": "markdown",
   "metadata": {},
   "source": [
    "<b> Put your code below </b>"
   ]
  },
  {
   "cell_type": "code",
   "execution_count": 116,
   "metadata": {},
   "outputs": [
    {
     "data": {
      "image/png": "[encoded data removed]",
      "text/plain": [
       "<Figure size 432x288 with 1 Axes>"
      ]
     },
     "metadata": {
      "needs_background": "light"
     },
     "output_type": "display_data"
    }
   ],
   "source": [
    "#                  there was no image provided\n",
    "\n",
    "JobRoles = dataframe['Job-Role'].unique()\n",
    "NumberofJobRoles = dataframe['Job-Role'].value_counts(ascending=False)\n",
    "plt.xlabel(\"Job Roles\")\n",
    "plt.ylabel(\"No of Job Roles\")\n",
    "plt.xticks(rotation=90)\n",
    "plt.bar(JobRoles,NumberofJobRoles)\n",
    "plt.show()"
   ]
  },
  {
   "cell_type": "markdown",
   "metadata": {},
   "source": [
    "<b> Q4. Please create two bar plots as per below that show:\n",
    "    \n",
    "    1) The number of individuals who have a High School Graduate Diploma AND earn <=50K in the United States\n",
    "    2) The number of individuals who have a High School Graduate Diploma AND earn >50K in the United States \n",
    "\n",
    "Please note you will be looking specifically at the *Job Role* column"
   ]
  },
  {
   "cell_type": "markdown",
   "metadata": {},
   "source": [
    "<b> Put Your Code Below </b>"
   ]
  },
  {
   "cell_type": "code",
   "execution_count": 42,
   "metadata": {},
   "outputs": [
    {
     "data": {
      "image/png": "[encoded data removed]",
      "text/plain": [
       "<Figure size 432x288 with 1 Axes>"
      ]
     },
     "metadata": {
      "needs_background": "light"
     },
     "output_type": "display_data"
    },
    {
     "data": {
      "image/png": "[encoded data removed]",
      "text/plain": [
       "<Figure size 432x288 with 1 Axes>"
      ]
     },
     "metadata": {
      "needs_background": "light"
     },
     "output_type": "display_data"
    }
   ],
   "source": [
    "JobRoles = dataframe['Job-Role'].unique()\n",
    "NewSort = dataframe[(dataframe['Degree Status']=='HS-grad') & (dataframe['Country']=='United-States') & \n",
    "                       (dataframe['Earnings']=='<=50K')]\n",
    "NumberofJobRoles = NewSort['Job-Role'].value_counts(ascending=False)\n",
    "plt.xlabel(\"Job Roles\")\n",
    "plt.ylabel(\"No of Job Roles\")\n",
    "plt.xticks(rotation=90)\n",
    "plt.bar(JobRoles,NumberofJobRoles)\n",
    "plt.show()"
   ]
  },
  {
   "cell_type": "code",
   "execution_count": null,
   "metadata": {},
   "outputs": [],
   "source": [
    "JobRoles = dataframe['Job-Role'].unique()\n",
    "NewSort = dataframe[(dataframe['Degree Status']=='HS-grad') & (dataframe['Country']=='United-States') \n",
    "                  &    (dataframe['Earnings']=='>50K')]\n",
    "\n",
    "NumberofJobRoles = NewSort['Job-Role'].value_counts(ascending=False)\n",
    "plt.xlabel(\"Job Roles\")\n",
    "plt.ylabel(\"No of Job Roles\")\n",
    "plt.xticks(rotation=90)\n",
    "plt.bar(JobRoles,NumberofJobRoles)\n",
    "plt.show()"
   ]
  },
  {
   "cell_type": "markdown",
   "metadata": {},
   "source": [
    "\n"
   ]
  },
  {
   "cell_type": "markdown",
   "metadata": {},
   "source": [
    "<H2> Challenge Question </H2>\n",
    "\n",
    "<b> Q5. Which Job Role has the highest <i> proportion </i> of individuals who earn >50K? </b>"
   ]
  },
  {
   "cell_type": "markdown",
   "metadata": {},
   "source": [
    "<b> Put your code below </b>"
   ]
  },
  {
   "cell_type": "code",
   "execution_count": 130,
   "metadata": {},
   "outputs": [
    {
     "data": {
      "text/plain": [
       "Exec-managerial    1968\n",
       "Name: Job-Role, dtype: int64"
      ]
     },
     "execution_count": 130,
     "metadata": {},
     "output_type": "execute_result"
    }
   ],
   "source": [
    "NewSort = dataframe[(dataframe['Earnings']=='>50K')]\n",
    "NumberofJobRoles = NewSort['Job-Role'].value_counts(ascending=False)\n",
    "NumberofJobRoles.head(1)"
   ]
  }
 ],
 "metadata": {
  "kernelspec": {
   "display_name": "Python 3",
   "language": "python",
   "name": "python3"
  },
  "language_info": {
   "codemirror_mode": {
    "name": "ipython",
    "version": 3
   },
   "file_extension": ".py",
   "mimetype": "text/x-python",
   "name": "python",
   "nbconvert_exporter": "python",
   "pygments_lexer": "ipython3",
   "version": "3.7.4"
  }
 },
 "nbformat": 4,
 "nbformat_minor": 4
}
